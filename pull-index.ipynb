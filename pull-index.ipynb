{
 "cells": [
  {
   "cell_type": "code",
   "execution_count": null,
   "metadata": {},
   "outputs": [],
   "source": [
    "from pathlib import Path\n",
    "import os\n",
    "import json\n",
    "import random\n",
    "import numpy as np\n",
    "import pandas as pd\n",
    "from bs4 import BeautifulSoup\n",
    "import requests"
   ]
  },
  {
   "cell_type": "code",
   "execution_count": null,
   "metadata": {},
   "outputs": [],
   "source": [
    "os.listdir(\"tvtropes.org/pmwiki/\")"
   ]
  },
  {
   "cell_type": "code",
   "execution_count": null,
   "metadata": {},
   "outputs": [],
   "source": [
    "pmwiki = Path(\"tvtropes.org/pmwiki/\")"
   ]
  },
  {
   "cell_type": "code",
   "execution_count": null,
   "metadata": {},
   "outputs": [],
   "source": [
    "vals = []\n",
    "main = json.load(open('mainFiles_all.json'))\n",
    "\n",
    "for i in np.arange(len(main['0'])):\n",
    "    vals.append(main['0'][str(i)])"
   ]
  },
  {
   "cell_type": "code",
   "execution_count": null,
   "metadata": {},
   "outputs": [],
   "source": [
    "'Snowclones' in vals"
   ]
  },
  {
   "cell_type": "code",
   "execution_count": null,
   "metadata": {},
   "outputs": [],
   "source": [
    "trope_list = os.listdir(\"trope_list/tropes\")\n",
    "trope_list[0:10]"
   ]
  },
  {
   "cell_type": "code",
   "execution_count": null,
   "metadata": {},
   "outputs": [],
   "source": [
    "trope_list_no_end = []\n",
    "for trope in trope_list:\n",
    "    trope_list_no_end.append(trope.split(\".\")[0])\n",
    "trope_list_no_end[0:10]"
   ]
  },
  {
   "cell_type": "code",
   "execution_count": null,
   "metadata": {},
   "outputs": [],
   "source": [
    "'ZergRush' in trope_list_no_end"
   ]
  },
  {
   "cell_type": "code",
   "execution_count": null,
   "metadata": {},
   "outputs": [],
   "source": [
    "d = {}"
   ]
  },
  {
   "cell_type": "code",
   "execution_count": null,
   "metadata": {},
   "outputs": [],
   "source": [
    "soup = BeautifulSoup(open(pmwiki/'index_report.php.html'))\n",
    "\n",
    "for link_set in soup.find_all(\"div\",  {\"class\": \"link-set\"}):\n",
    "    i = 0\n",
    "    for link in link_set.find_all(\"a\"):\n",
    "        ind = link[\"href\"].split(\"/\")[-1]\n",
    "        if ind in d:\n",
    "            next\n",
    "        else:\n",
    "            print(ind)\n",
    "            ind_link = \"https://tvtropes.org\" + link[\"href\"]\n",
    "            req = requests.get(ind_link, headers={\n",
    "                \"User-Agent\" : f\"Mozilla/5.0 (X11; Linux x86_64) AppleWebKit/537.36 (KHTML, like Gecko) Chrome/51.0.{i}.103 Safari/537.36\"\n",
    "            })\n",
    "            s = BeautifulSoup(req.text)\n",
    "            l = []\n",
    "            print(type(s.find(\"article\", id=\"main-entry\")))\n",
    "            # open index page and find all links with class twikilink in <article id = \"main-entry\">\n",
    "            if s.find(\"article\", id=\"main-entry\") is not None:\n",
    "                for trope in s.find(\"article\", id=\"main-entry\").find_all(\"a\", class_=\"twikilink\"):\n",
    "                    if trope[\"href\"].split(\"/\")[-1] in trope_list_no_end:\n",
    "                        l.append(trope[\"href\"].split(\"/\")[-1])\n",
    "                    else:\n",
    "                        next\n",
    "                d[ind] = l\n",
    "            else:\n",
    "                next\n",
    "    i += 1"
   ]
  },
  {
   "cell_type": "code",
   "execution_count": null,
   "metadata": {},
   "outputs": [],
   "source": [
    "d['WonderWoman']"
   ]
  },
  {
   "cell_type": "code",
   "execution_count": null,
   "metadata": {},
   "outputs": [],
   "source": [
    "individual = Path(\"index-list/individual/\")"
   ]
  },
  {
   "cell_type": "code",
   "execution_count": null,
   "metadata": {},
   "outputs": [],
   "source": [
    "with open(\"index-list/index-list.json\", \"w\") as file:\n",
    "    json.dump(d, file, indent = 4)\n",
    "    \n",
    "    file.close()"
   ]
  },
  {
   "cell_type": "code",
   "execution_count": null,
   "metadata": {},
   "outputs": [],
   "source": [
    "len(json.load(open(\"index-list/index-list.json\")))"
   ]
  },
  {
   "cell_type": "code",
   "execution_count": null,
   "metadata": {},
   "outputs": [],
   "source": [
    "os.listdir(\"index-list/individual\")"
   ]
  },
  {
   "cell_type": "code",
   "execution_count": null,
   "metadata": {},
   "outputs": [],
   "source": [
    "for key, val in d.items():\n",
    "    with open(individual/(key + \".json\"), \"w\") as f:\n",
    "        a = {key : val}\n",
    "        json.dump(a, f, indent=4)\n",
    "        f.close()\n",
    "    "
   ]
  },
  {
   "cell_type": "code",
   "execution_count": null,
   "metadata": {},
   "outputs": [],
   "source": [
    "a"
   ]
  }
 ],
 "metadata": {
  "kernelspec": {
   "display_name": "Python 3",
   "language": "python",
   "name": "python3"
  },
  "language_info": {
   "codemirror_mode": {
    "name": "ipython",
    "version": 3
   },
   "file_extension": ".py",
   "mimetype": "text/x-python",
   "name": "python",
   "nbconvert_exporter": "python",
   "pygments_lexer": "ipython3",
   "version": "3.7.4"
  }
 },
 "nbformat": 4,
 "nbformat_minor": 2
}
